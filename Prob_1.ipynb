{
 "cells": [
  {
   "cell_type": "code",
   "execution_count": 40,
   "id": "c1541e65",
   "metadata": {},
   "outputs": [],
   "source": [
    "from pymongo import MongoClient\n",
    "client = MongoClient()\n",
    "client = MongoClient('localhost',27017)\n",
    "db = client.AminerDB\n",
    "data = db.data"
   ]
  },
  {
   "cell_type": "code",
   "execution_count": 41,
   "id": "67197441",
   "metadata": {},
   "outputs": [],
   "source": [
    "import re\n",
    "import matplotlib.pyplot as plt\n",
    "import numpy as np"
   ]
  },
  {
   "cell_type": "markdown",
   "id": "c28187b8",
   "metadata": {},
   "source": [
    "A. Compute the number of distinct authors, publication venues, publications, and citations/references"
   ]
  },
  {
   "cell_type": "code",
   "execution_count": 42,
   "id": "e0697436",
   "metadata": {},
   "outputs": [
    {
     "name": "stdout",
     "output_type": "stream",
     "text": [
      "Total distinct authors: 1651650\n"
     ]
    }
   ],
   "source": [
    "pipeline = [\n",
    "    {\"$unwind\": \"$authors\"},  # Unwind the authors array\n",
    "    {\"$group\": {\"_id\": \"$authors\"}},  # Group by author to get distinct authors\n",
    "    {\"$group\": {\"_id\": None, \"total_authors\": {\"$sum\": 1}}}  # Count the distinct authors\n",
    "]\n",
    "\n",
    "result = data.aggregate(pipeline)\n",
    "for doc in result:\n",
    "    print(\"Total distinct authors:\", doc[\"total_authors\"])\n"
   ]
  },
  {
   "cell_type": "code",
   "execution_count": 43,
   "id": "8f507189",
   "metadata": {},
   "outputs": [
    {
     "name": "stdout",
     "output_type": "stream",
     "text": [
      "Total distinct venues: 273330\n"
     ]
    }
   ],
   "source": [
    "pipeline = [\n",
    "    {\"$group\": {\"_id\": \"$venue\"}},  # Group by venue to get distinct venues\n",
    "    {\"$group\": {\"_id\": None, \"total_venues\": {\"$sum\": 1}}}  # Count the distinct venues\n",
    "]\n",
    "\n",
    "result = data.aggregate(pipeline)\n",
    "for doc in result:\n",
    "    print(\"Total distinct venues:\", doc[\"total_venues\"])\n"
   ]
  },
  {
   "cell_type": "code",
   "execution_count": 44,
   "id": "59175076",
   "metadata": {},
   "outputs": [
    {
     "name": "stdout",
     "output_type": "stream",
     "text": [
      "Total distinct publications: 2385058\n"
     ]
    }
   ],
   "source": [
    "pipeline = [\n",
    "    {\"$group\": {\"_id\": \"$publication\"}},  # Group by publication to get distinct publications\n",
    "    {\"$group\": {\"_id\": None, \"total_publications\": {\"$sum\": 1}}}  # Count the distinct publications\n",
    "]\n",
    "\n",
    "result = data.aggregate(pipeline)\n",
    "for doc in result:\n",
    "    print(\"Total distinct publications:\", doc[\"total_publications\"])\n"
   ]
  },
  {
   "cell_type": "code",
   "execution_count": 45,
   "id": "7b61701f",
   "metadata": {},
   "outputs": [
    {
     "name": "stdout",
     "output_type": "stream",
     "text": [
      "Total distinct citations: 1007495\n"
     ]
    }
   ],
   "source": [
    "pipeline = [\n",
    "    {\"$unwind\": \"$citations\"},  # Unwind the citations array\n",
    "    {\"$group\": {\"_id\": \"$citations\"}},  # Group by citation to get distinct citations\n",
    "    {\"$group\": {\"_id\": None, \"total_citations\": {\"$sum\": 1}}}  # Count the distinct citations\n",
    "]\n",
    "\n",
    "result = data.aggregate(pipeline)\n",
    "for doc in result:\n",
    "    print(\"Total distinct citations:\", doc[\"total_citations\"])\n"
   ]
  },
  {
   "cell_type": "markdown",
   "id": "e4358062",
   "metadata": {},
   "source": [
    "B. Are these numbers likely to be accurate? As an example look up all the publications venue names associated with the conference “Principles and Practice of Knowledge Discovery in Databases” – what do you notice?"
   ]
  },
  {
   "cell_type": "code",
   "execution_count": 20,
   "id": "dca5b355",
   "metadata": {},
   "outputs": [
    {
     "name": "stdout",
     "output_type": "stream",
     "text": [
      "PKDD '04 Proceedings of the 8th European Conference on Principles and Practice of Knowledge Discovery in Databases\n",
      "PKDD '04 Proceedings of the 8th European Conference on Principles and Practice of Knowledge Discovery in Databases\n",
      "PKDD '04 Proceedings of the 8th European Conference on Principles and Practice of Knowledge Discovery in Databases\n",
      "PKDD '04 Proceedings of the 8th European Conference on Principles and Practice of Knowledge Discovery in Databases\n",
      "PKDD '04 Proceedings of the 8th European Conference on Principles and Practice of Knowledge Discovery in Databases\n",
      "PKDD '04 Proceedings of the 8th European Conference on Principles and Practice of Knowledge Discovery in Databases\n",
      "PKDD '04 Proceedings of the 8th European Conference on Principles and Practice of Knowledge Discovery in Databases\n",
      "PKDD '04 Proceedings of the 8th European Conference on Principles and Practice of Knowledge Discovery in Databases\n",
      "PKDD '04 Proceedings of the 8th European Conference on Principles and Practice of Knowledge Discovery in Databases\n",
      "PKDD '04 Proceedings of the 8th European Conference on Principles and Practice of Knowledge Discovery in Databases\n",
      "PKDD '04 Proceedings of the 8th European Conference on Principles and Practice of Knowledge Discovery in Databases\n",
      "PKDD '04 Proceedings of the 8th European Conference on Principles and Practice of Knowledge Discovery in Databases\n",
      "PKDD '04 Proceedings of the 8th European Conference on Principles and Practice of Knowledge Discovery in Databases\n",
      "PKDD '04 Proceedings of the 8th European Conference on Principles and Practice of Knowledge Discovery in Databases\n",
      "PKDD '04 Proceedings of the 8th European Conference on Principles and Practice of Knowledge Discovery in Databases\n",
      "PKDD '04 Proceedings of the 8th European Conference on Principles and Practice of Knowledge Discovery in Databases\n",
      "PKDD '04 Proceedings of the 8th European Conference on Principles and Practice of Knowledge Discovery in Databases\n",
      "PKDD '04 Proceedings of the 8th European Conference on Principles and Practice of Knowledge Discovery in Databases\n",
      "PKDD '04 Proceedings of the 8th European Conference on Principles and Practice of Knowledge Discovery in Databases\n",
      "PKDD '04 Proceedings of the 8th European Conference on Principles and Practice of Knowledge Discovery in Databases\n",
      "PKDD '04 Proceedings of the 8th European Conference on Principles and Practice of Knowledge Discovery in Databases\n",
      "PKDD '04 Proceedings of the 8th European Conference on Principles and Practice of Knowledge Discovery in Databases\n",
      "PKDD '04 Proceedings of the 8th European Conference on Principles and Practice of Knowledge Discovery in Databases\n",
      "PKDD '04 Proceedings of the 8th European Conference on Principles and Practice of Knowledge Discovery in Databases\n",
      "PKDD '04 Proceedings of the 8th European Conference on Principles and Practice of Knowledge Discovery in Databases\n",
      "PKDD '04 Proceedings of the 8th European Conference on Principles and Practice of Knowledge Discovery in Databases\n",
      "PKDD '04 Proceedings of the 8th European Conference on Principles and Practice of Knowledge Discovery in Databases\n",
      "PKDD '04 Proceedings of the 8th European Conference on Principles and Practice of Knowledge Discovery in Databases\n",
      "PKDD '04 Proceedings of the 8th European Conference on Principles and Practice of Knowledge Discovery in Databases\n",
      "PKDD '04 Proceedings of the 8th European Conference on Principles and Practice of Knowledge Discovery in Databases\n",
      "PKDD '04 Proceedings of the 8th European Conference on Principles and Practice of Knowledge Discovery in Databases\n",
      "PKDD '04 Proceedings of the 8th European Conference on Principles and Practice of Knowledge Discovery in Databases\n",
      "PKDD '04 Proceedings of the 8th European Conference on Principles and Practice of Knowledge Discovery in Databases\n",
      "PKDD '04 Proceedings of the 8th European Conference on Principles and Practice of Knowledge Discovery in Databases\n",
      "PKDD '04 Proceedings of the 8th European Conference on Principles and Practice of Knowledge Discovery in Databases\n",
      "PKDD '04 Proceedings of the 8th European Conference on Principles and Practice of Knowledge Discovery in Databases\n",
      "PKDD '04 Proceedings of the 8th European Conference on Principles and Practice of Knowledge Discovery in Databases\n",
      "PKDD '04 Proceedings of the 8th European Conference on Principles and Practice of Knowledge Discovery in Databases\n",
      "PKDD '04 Proceedings of the 8th European Conference on Principles and Practice of Knowledge Discovery in Databases\n",
      "PKDD '04 Proceedings of the 8th European Conference on Principles and Practice of Knowledge Discovery in Databases\n",
      "PKDD '04 Proceedings of the 8th European Conference on Principles and Practice of Knowledge Discovery in Databases\n",
      "PKDD '04 Proceedings of the 8th European Conference on Principles and Practice of Knowledge Discovery in Databases\n",
      "PKDD '04 Proceedings of the 8th European Conference on Principles and Practice of Knowledge Discovery in Databases\n",
      "PKDD '04 Proceedings of the 8th European Conference on Principles and Practice of Knowledge Discovery in Databases\n",
      "PKDD '04 Proceedings of the 8th European Conference on Principles and Practice of Knowledge Discovery in Databases\n",
      "PKDD '04 Proceedings of the 8th European Conference on Principles and Practice of Knowledge Discovery in Databases\n",
      "PKDD '04 Proceedings of the 8th European Conference on Principles and Practice of Knowledge Discovery in Databases\n",
      "PKDD '04 Proceedings of the 8th European Conference on Principles and Practice of Knowledge Discovery in Databases\n",
      "PKDD '04 Proceedings of the 8th European Conference on Principles and Practice of Knowledge Discovery in Databases\n",
      "PKDD '04 Proceedings of the 8th European Conference on Principles and Practice of Knowledge Discovery in Databases\n",
      "PKDD '04 Proceedings of the 8th European Conference on Principles and Practice of Knowledge Discovery in Databases\n",
      "PKDD '04 Proceedings of the 8th European Conference on Principles and Practice of Knowledge Discovery in Databases\n",
      "PKDD '04 Proceedings of the 8th European Conference on Principles and Practice of Knowledge Discovery in Databases\n",
      "PKDD '04 Proceedings of the 8th European Conference on Principles and Practice of Knowledge Discovery in Databases\n",
      "PKDD '04 Proceedings of the 8th European Conference on Principles and Practice of Knowledge Discovery in Databases\n",
      "PKDD '04 Proceedings of the 8th European Conference on Principles and Practice of Knowledge Discovery in Databases\n",
      "PKDD '04 Proceedings of the 8th European Conference on Principles and Practice of Knowledge Discovery in Databases\n",
      "PKDD '04 Proceedings of the 8th European Conference on Principles and Practice of Knowledge Discovery in Databases\n",
      "PKDD '04 Proceedings of the 8th European Conference on Principles and Practice of Knowledge Discovery in Databases\n",
      "PKDD '04 Proceedings of the 8th European Conference on Principles and Practice of Knowledge Discovery in Databases\n",
      "PKDD '04 Proceedings of the 8th European Conference on Principles and Practice of Knowledge Discovery in Databases\n",
      "PKDD '04 Proceedings of the 8th European Conference on Principles and Practice of Knowledge Discovery in Databases\n",
      "PKDD '04 Proceedings of the 8th European Conference on Principles and Practice of Knowledge Discovery in Databases\n",
      "PKDD '04 Proceedings of the 8th European Conference on Principles and Practice of Knowledge Discovery in Databases\n",
      "PKDD '04 Proceedings of the 8th European Conference on Principles and Practice of Knowledge Discovery in Databases\n",
      "Knowledge Discovery in Databases: PKDD 2006: 10th European Conference on Principles and Practice of Knowledge Discovery in Databases, Berlin, Germany, September ... (Lecture Notes in Computer Science)\n",
      "Knowledge Discovery in Databases: PKDD 2005: 9th European Conference on Principles and Practice of Knowledge Discovery in Databases, Porto, Portugal, October ... / Lecture Notes in Artificial Intelligence)\n",
      "PKDD 2007 Proceedings of the 11th European conference on Principles and Practice of Knowledge Discovery in Databases\n",
      "PKDD 2007 Proceedings of the 11th European conference on Principles and Practice of Knowledge Discovery in Databases\n",
      "PKDD 2007 Proceedings of the 11th European conference on Principles and Practice of Knowledge Discovery in Databases\n",
      "PKDD 2007 Proceedings of the 11th European conference on Principles and Practice of Knowledge Discovery in Databases\n",
      "PKDD 2007 Proceedings of the 11th European conference on Principles and Practice of Knowledge Discovery in Databases\n",
      "PKDD 2007 Proceedings of the 11th European conference on Principles and Practice of Knowledge Discovery in Databases\n",
      "PKDD 2007 Proceedings of the 11th European conference on Principles and Practice of Knowledge Discovery in Databases\n",
      "PKDD 2007 Proceedings of the 11th European conference on Principles and Practice of Knowledge Discovery in Databases\n",
      "PKDD 2007 Proceedings of the 11th European conference on Principles and Practice of Knowledge Discovery in Databases\n",
      "PKDD 2007 Proceedings of the 11th European conference on Principles and Practice of Knowledge Discovery in Databases\n",
      "PKDD 2007 Proceedings of the 11th European conference on Principles and Practice of Knowledge Discovery in Databases\n",
      "PKDD 2007 Proceedings of the 11th European conference on Principles and Practice of Knowledge Discovery in Databases\n",
      "PKDD 2007 Proceedings of the 11th European conference on Principles and Practice of Knowledge Discovery in Databases\n",
      "PKDD 2007 Proceedings of the 11th European conference on Principles and Practice of Knowledge Discovery in Databases\n",
      "PKDD 2007 Proceedings of the 11th European conference on Principles and Practice of Knowledge Discovery in Databases\n",
      "PKDD 2007 Proceedings of the 11th European conference on Principles and Practice of Knowledge Discovery in Databases\n",
      "PKDD 2007 Proceedings of the 11th European conference on Principles and Practice of Knowledge Discovery in Databases\n",
      "PKDD 2007 Proceedings of the 11th European conference on Principles and Practice of Knowledge Discovery in Databases\n",
      "PKDD 2007 Proceedings of the 11th European conference on Principles and Practice of Knowledge Discovery in Databases\n",
      "PKDD 2007 Proceedings of the 11th European conference on Principles and Practice of Knowledge Discovery in Databases\n",
      "PKDD 2007 Proceedings of the 11th European conference on Principles and Practice of Knowledge Discovery in Databases\n",
      "PKDD 2007 Proceedings of the 11th European conference on Principles and Practice of Knowledge Discovery in Databases\n",
      "PKDD 2007 Proceedings of the 11th European conference on Principles and Practice of Knowledge Discovery in Databases\n",
      "PKDD 2007 Proceedings of the 11th European conference on Principles and Practice of Knowledge Discovery in Databases\n",
      "PKDD 2007 Proceedings of the 11th European conference on Principles and Practice of Knowledge Discovery in Databases\n",
      "PKDD 2007 Proceedings of the 11th European conference on Principles and Practice of Knowledge Discovery in Databases\n",
      "PKDD 2007 Proceedings of the 11th European conference on Principles and Practice of Knowledge Discovery in Databases\n",
      "PKDD 2007 Proceedings of the 11th European conference on Principles and Practice of Knowledge Discovery in Databases\n",
      "PKDD 2007 Proceedings of the 11th European conference on Principles and Practice of Knowledge Discovery in Databases\n",
      "PKDD 2007 Proceedings of the 11th European conference on Principles and Practice of Knowledge Discovery in Databases\n",
      "PKDD 2007 Proceedings of the 11th European conference on Principles and Practice of Knowledge Discovery in Databases\n",
      "PKDD 2007 Proceedings of the 11th European conference on Principles and Practice of Knowledge Discovery in Databases\n",
      "PKDD 2007 Proceedings of the 11th European conference on Principles and Practice of Knowledge Discovery in Databases\n",
      "PKDD 2007 Proceedings of the 11th European conference on Principles and Practice of Knowledge Discovery in Databases\n"
     ]
    },
    {
     "name": "stdout",
     "output_type": "stream",
     "text": [
      "PKDD 2007 Proceedings of the 11th European conference on Principles and Practice of Knowledge Discovery in Databases\n",
      "PKDD 2007 Proceedings of the 11th European conference on Principles and Practice of Knowledge Discovery in Databases\n",
      "PKDD 2007 Proceedings of the 11th European conference on Principles and Practice of Knowledge Discovery in Databases\n",
      "PKDD 2007 Proceedings of the 11th European conference on Principles and Practice of Knowledge Discovery in Databases\n",
      "PKDD 2007 Proceedings of the 11th European conference on Principles and Practice of Knowledge Discovery in Databases\n",
      "PKDD 2007 Proceedings of the 11th European conference on Principles and Practice of Knowledge Discovery in Databases\n",
      "PKDD 2007 Proceedings of the 11th European conference on Principles and Practice of Knowledge Discovery in Databases\n",
      "PKDD 2007 Proceedings of the 11th European conference on Principles and Practice of Knowledge Discovery in Databases\n",
      "PKDD 2007 Proceedings of the 11th European conference on Principles and Practice of Knowledge Discovery in Databases\n",
      "PKDD 2007 Proceedings of the 11th European conference on Principles and Practice of Knowledge Discovery in Databases\n",
      "PKDD 2007 Proceedings of the 11th European conference on Principles and Practice of Knowledge Discovery in Databases\n",
      "PKDD 2007 Proceedings of the 11th European conference on Principles and Practice of Knowledge Discovery in Databases\n",
      "PKDD 2007 Proceedings of the 11th European conference on Principles and Practice of Knowledge Discovery in Databases\n",
      "PKDD 2007 Proceedings of the 11th European conference on Principles and Practice of Knowledge Discovery in Databases\n",
      "PKDD 2007 Proceedings of the 11th European conference on Principles and Practice of Knowledge Discovery in Databases\n",
      "PKDD 2007 Proceedings of the 11th European conference on Principles and Practice of Knowledge Discovery in Databases\n",
      "PKDD 2007 Proceedings of the 11th European conference on Principles and Practice of Knowledge Discovery in Databases\n",
      "PKDD 2007 Proceedings of the 11th European conference on Principles and Practice of Knowledge Discovery in Databases\n",
      "PKDD 2007 Proceedings of the 11th European conference on Principles and Practice of Knowledge Discovery in Databases\n",
      "PKDD 2007 Proceedings of the 11th European conference on Principles and Practice of Knowledge Discovery in Databases\n",
      "PKDD 2007 Proceedings of the 11th European conference on Principles and Practice of Knowledge Discovery in Databases\n",
      "PKDD 2007 Proceedings of the 11th European conference on Principles and Practice of Knowledge Discovery in Databases\n",
      "PKDD 2007 Proceedings of the 11th European conference on Principles and Practice of Knowledge Discovery in Databases\n",
      "PKDD 2007 Proceedings of the 11th European conference on Principles and Practice of Knowledge Discovery in Databases\n",
      "PKDD 2007 Proceedings of the 11th European conference on Principles and Practice of Knowledge Discovery in Databases\n",
      "PKDD 2007 Proceedings of the 11th European conference on Principles and Practice of Knowledge Discovery in Databases\n",
      "PKDD 2007 Proceedings of the 11th European conference on Principles and Practice of Knowledge Discovery in Databases\n",
      "PKDD 2007 Proceedings of the 11th European conference on Principles and Practice of Knowledge Discovery in Databases\n",
      "PKDD 2007 Proceedings of the 11th European conference on Principles and Practice of Knowledge Discovery in Databases\n",
      "PKDD 2007 Proceedings of the 11th European conference on Principles and Practice of Knowledge Discovery in Databases\n",
      "PKDD 2007 Proceedings of the 11th European conference on Principles and Practice of Knowledge Discovery in Databases\n",
      "PKDD 2007 Proceedings of the 11th European conference on Principles and Practice of Knowledge Discovery in Databases\n",
      "PKDD 2007 Proceedings of the 11th European conference on Principles and Practice of Knowledge Discovery in Databases\n",
      "PKDD 2007 Proceedings of the 11th European conference on Principles and Practice of Knowledge Discovery in Databases\n",
      "PKDD'05 Proceedings of the 9th European conference on Principles and Practice of Knowledge Discovery in Databases\n",
      "PKDD'05 Proceedings of the 9th European conference on Principles and Practice of Knowledge Discovery in Databases\n",
      "PKDD'05 Proceedings of the 9th European conference on Principles and Practice of Knowledge Discovery in Databases\n",
      "PKDD'05 Proceedings of the 9th European conference on Principles and Practice of Knowledge Discovery in Databases\n",
      "PKDD'05 Proceedings of the 9th European conference on Principles and Practice of Knowledge Discovery in Databases\n",
      "PKDD'05 Proceedings of the 9th European conference on Principles and Practice of Knowledge Discovery in Databases\n",
      "PKDD'05 Proceedings of the 9th European conference on Principles and Practice of Knowledge Discovery in Databases\n",
      "PKDD'05 Proceedings of the 9th European conference on Principles and Practice of Knowledge Discovery in Databases\n",
      "PKDD'05 Proceedings of the 9th European conference on Principles and Practice of Knowledge Discovery in Databases\n",
      "PKDD'05 Proceedings of the 9th European conference on Principles and Practice of Knowledge Discovery in Databases\n",
      "PKDD'05 Proceedings of the 9th European conference on Principles and Practice of Knowledge Discovery in Databases\n",
      "PKDD'05 Proceedings of the 9th European conference on Principles and Practice of Knowledge Discovery in Databases\n",
      "PKDD'05 Proceedings of the 9th European conference on Principles and Practice of Knowledge Discovery in Databases\n",
      "PKDD'05 Proceedings of the 9th European conference on Principles and Practice of Knowledge Discovery in Databases\n",
      "PKDD'05 Proceedings of the 9th European conference on Principles and Practice of Knowledge Discovery in Databases\n",
      "PKDD'05 Proceedings of the 9th European conference on Principles and Practice of Knowledge Discovery in Databases\n",
      "PKDD'05 Proceedings of the 9th European conference on Principles and Practice of Knowledge Discovery in Databases\n",
      "PKDD'05 Proceedings of the 9th European conference on Principles and Practice of Knowledge Discovery in Databases\n",
      "PKDD'05 Proceedings of the 9th European conference on Principles and Practice of Knowledge Discovery in Databases\n",
      "PKDD'05 Proceedings of the 9th European conference on Principles and Practice of Knowledge Discovery in Databases\n",
      "PKDD'05 Proceedings of the 9th European conference on Principles and Practice of Knowledge Discovery in Databases\n",
      "PKDD'05 Proceedings of the 9th European conference on Principles and Practice of Knowledge Discovery in Databases\n",
      "PKDD'05 Proceedings of the 9th European conference on Principles and Practice of Knowledge Discovery in Databases\n",
      "PKDD'05 Proceedings of the 9th European conference on Principles and Practice of Knowledge Discovery in Databases\n",
      "PKDD'05 Proceedings of the 9th European conference on Principles and Practice of Knowledge Discovery in Databases\n",
      "PKDD'05 Proceedings of the 9th European conference on Principles and Practice of Knowledge Discovery in Databases\n",
      "PKDD'05 Proceedings of the 9th European conference on Principles and Practice of Knowledge Discovery in Databases\n",
      "PKDD'05 Proceedings of the 9th European conference on Principles and Practice of Knowledge Discovery in Databases\n",
      "PKDD'05 Proceedings of the 9th European conference on Principles and Practice of Knowledge Discovery in Databases\n",
      "PKDD'05 Proceedings of the 9th European conference on Principles and Practice of Knowledge Discovery in Databases\n",
      "PKDD'05 Proceedings of the 9th European conference on Principles and Practice of Knowledge Discovery in Databases\n",
      "PKDD'05 Proceedings of the 9th European conference on Principles and Practice of Knowledge Discovery in Databases\n",
      "PKDD'05 Proceedings of the 9th European conference on Principles and Practice of Knowledge Discovery in Databases\n",
      "PKDD'05 Proceedings of the 9th European conference on Principles and Practice of Knowledge Discovery in Databases\n",
      "PKDD'05 Proceedings of the 9th European conference on Principles and Practice of Knowledge Discovery in Databases\n",
      "PKDD'05 Proceedings of the 9th European conference on Principles and Practice of Knowledge Discovery in Databases\n",
      "PKDD'05 Proceedings of the 9th European conference on Principles and Practice of Knowledge Discovery in Databases\n",
      "PKDD'05 Proceedings of the 9th European conference on Principles and Practice of Knowledge Discovery in Databases\n",
      "PKDD'05 Proceedings of the 9th European conference on Principles and Practice of Knowledge Discovery in Databases\n",
      "PKDD'05 Proceedings of the 9th European conference on Principles and Practice of Knowledge Discovery in Databases\n",
      "PKDD'05 Proceedings of the 9th European conference on Principles and Practice of Knowledge Discovery in Databases\n",
      "PKDD'05 Proceedings of the 9th European conference on Principles and Practice of Knowledge Discovery in Databases\n",
      "PKDD'05 Proceedings of the 9th European conference on Principles and Practice of Knowledge Discovery in Databases\n",
      "PKDD'05 Proceedings of the 9th European conference on Principles and Practice of Knowledge Discovery in Databases\n",
      "PKDD'05 Proceedings of the 9th European conference on Principles and Practice of Knowledge Discovery in Databases\n",
      "PKDD'05 Proceedings of the 9th European conference on Principles and Practice of Knowledge Discovery in Databases\n",
      "PKDD'05 Proceedings of the 9th European conference on Principles and Practice of Knowledge Discovery in Databases\n",
      "PKDD'05 Proceedings of the 9th European conference on Principles and Practice of Knowledge Discovery in Databases\n",
      "PKDD'05 Proceedings of the 9th European conference on Principles and Practice of Knowledge Discovery in Databases\n",
      "PKDD'05 Proceedings of the 9th European conference on Principles and Practice of Knowledge Discovery in Databases\n",
      "PKDD'05 Proceedings of the 9th European conference on Principles and Practice of Knowledge Discovery in Databases\n",
      "PKDD'05 Proceedings of the 9th European conference on Principles and Practice of Knowledge Discovery in Databases\n",
      "PKDD'05 Proceedings of the 9th European conference on Principles and Practice of Knowledge Discovery in Databases\n",
      "PKDD'05 Proceedings of the 9th European conference on Principles and Practice of Knowledge Discovery in Databases\n",
      "PKDD'05 Proceedings of the 9th European conference on Principles and Practice of Knowledge Discovery in Databases\n",
      "PKDD'05 Proceedings of the 9th European conference on Principles and Practice of Knowledge Discovery in Databases\n",
      "PKDD'05 Proceedings of the 9th European conference on Principles and Practice of Knowledge Discovery in Databases\n",
      "PKDD'05 Proceedings of the 9th European conference on Principles and Practice of Knowledge Discovery in Databases\n",
      "PKDD'05 Proceedings of the 9th European conference on Principles and Practice of Knowledge Discovery in Databases\n",
      "PKDD'05 Proceedings of the 9th European conference on Principles and Practice of Knowledge Discovery in Databases\n",
      "PKDD'05 Proceedings of the 9th European conference on Principles and Practice of Knowledge Discovery in Databases\n",
      "PKDD'05 Proceedings of the 9th European conference on Principles and Practice of Knowledge Discovery in Databases\n",
      "PKDD'05 Proceedings of the 9th European conference on Principles and Practice of Knowledge Discovery in Databases\n",
      "PKDD'05 Proceedings of the 9th European conference on Principles and Practice of Knowledge Discovery in Databases\n",
      "PKDD'05 Proceedings of the 9th European conference on Principles and Practice of Knowledge Discovery in Databases\n",
      "PKDD'05 Proceedings of the 9th European conference on Principles and Practice of Knowledge Discovery in Databases\n",
      "PKDD'05 Proceedings of the 9th European conference on Principles and Practice of Knowledge Discovery in Databases\n",
      "PKDD'05 Proceedings of the 9th European conference on Principles and Practice of Knowledge Discovery in Databases\n",
      "PKDD'05 Proceedings of the 9th European conference on Principles and Practice of Knowledge Discovery in Databases\n",
      "PKDD'05 Proceedings of the 9th European conference on Principles and Practice of Knowledge Discovery in Databases\n",
      "PKDD'05 Proceedings of the 9th European conference on Principles and Practice of Knowledge Discovery in Databases\n",
      "PKDD'05 Proceedings of the 9th European conference on Principles and Practice of Knowledge Discovery in Databases\n",
      "PKDD'05 Proceedings of the 9th European conference on Principles and Practice of Knowledge Discovery in Databases\n",
      "PKDD'05 Proceedings of the 9th European conference on Principles and Practice of Knowledge Discovery in Databases\n",
      "PKDD'05 Proceedings of the 9th European conference on Principles and Practice of Knowledge Discovery in Databases\n",
      "PKDD'05 Proceedings of the 9th European conference on Principles and Practice of Knowledge Discovery in Databases\n",
      "PKDD'05 Proceedings of the 9th European conference on Principles and Practice of Knowledge Discovery in Databases\n"
     ]
    }
   ],
   "source": [
    "regex_pattern = re.compile(\"Principles and Practice of Knowledge Discovery in Databases\", re.IGNORECASE)\n",
    "\n",
    "query = {\"venue\": {\"$regex\": regex_pattern}}\n",
    "\n",
    "result = data.find(query, {\"venue\": 1})\n",
    "\n",
    "# Print the publication venue names\n",
    "for doc in result:\n",
    "    print(doc[\"venue\"])\n"
   ]
  },
  {
   "cell_type": "markdown",
   "id": "071df31d",
   "metadata": {},
   "source": [
    "The same conference happens each year. Hence its name is different in the dataset. Hence the count of venue is inaccurate as it is increased. But the count of authors is most likely to be accurate (in case if the same authors name is entered incorrectly in any record). And counts of publications and citations is correct as I counted the IDs"
   ]
  },
  {
   "cell_type": "markdown",
   "id": "78460d6b",
   "metadata": {},
   "source": [
    "C. For each author, construct the list of publications. Plot a histogram of the number of publications per author (use a logarithmic scale on the y axis)"
   ]
  },
  {
   "cell_type": "code",
   "execution_count": 95,
   "id": "59cb819b",
   "metadata": {},
   "outputs": [],
   "source": [
    "pipeline = [\n",
    "    {\"$unwind\": \"$authors\"},  \n",
    "    {\"$group\": {\"_id\": \"$authors\", \"publications\": {\"$push\": \"$publication\"}}},  \n",
    "    {\"$project\": {\"_id\":0,\"author\": \"$_id\", \"publications\": 1}}  \n",
    "]\n",
    "# \"num_publications\": {\"$size\": \"$publications\"}\n",
    "result = data.aggregate(pipeline)"
   ]
  },
  {
   "cell_type": "code",
   "execution_count": 96,
   "id": "958bb35a",
   "metadata": {},
   "outputs": [],
   "source": [
    "authors = []\n",
    "num_publications = []\n",
    "publications = []\n",
    "for doc in result:\n",
    "    authors.append(doc[\"author\"])\n",
    "    num_publications.append(len(doc[\"publications\"]))\n",
    "    publications.append(doc[\"publications\"])"
   ]
  },
  {
   "cell_type": "code",
   "execution_count": 107,
   "id": "54cd61c6",
   "metadata": {},
   "outputs": [
    {
     "name": "stdout",
     "output_type": "stream",
     "text": [
      "110 4458 -\n",
      "266224 1560 Computer Staff\n",
      "589476 1760 III\n",
      "747361 8866 Jr.\n",
      "871509 1208 Linux Journal Staff\n",
      "1370691 1446 Staff\n",
      "1523750 1324 Wei Wang\n"
     ]
    }
   ],
   "source": [
    "for i in range(len(num_publications)):\n",
    "    if(num_publications[i] > 1000):\n",
    "        print(i,num_publications[i],authors[i])"
   ]
  },
  {
   "cell_type": "code",
   "execution_count": 82,
   "id": "45a0753f",
   "metadata": {},
   "outputs": [
    {
     "data": {
      "image/png": "[encoded data removed]",
      "text/plain": [
       "<Figure size 720x432 with 1 Axes>"
      ]
     },
     "metadata": {
      "needs_background": "light"
     },
     "output_type": "display_data"
    }
   ],
   "source": [
    "plt.figure(figsize=(10, 6)) \n",
    "\n",
    "plt.hist(num_publications, bins=range(1, max(num_publications) + 1), edgecolor='black', alpha=0.7,log=True)\n",
    "\n",
    "plt.title('Histogram of Number of Publications per Author')\n",
    "plt.xlabel('Authors')\n",
    "plt.ylabel('Number of Publications')\n",
    "\n",
    "plt.xticks([]) \n",
    "plt.xlabel('Authors')  \n",
    "\n",
    "plt.show()"
   ]
  },
  {
   "cell_type": "markdown",
   "id": "7ebfd1eb",
   "metadata": {},
   "source": [
    "D. Calculate the mean and standard deviation of the number of publications per author. Also calculate the Q1 (1st quartile14), Q2 (2nd quartile, or median) and Q3 (3rd quartile) values. Compare the median to the mean and explain the difference between the two values based on the standard deviation and the 1st and 3rd quartiles."
   ]
  },
  {
   "cell_type": "code",
   "execution_count": 110,
   "id": "43209200",
   "metadata": {},
   "outputs": [],
   "source": [
    "np_num_publications = np.array(num_publications)"
   ]
  },
  {
   "cell_type": "code",
   "execution_count": 113,
   "id": "bba9783d",
   "metadata": {},
   "outputs": [
    {
     "name": "stdout",
     "output_type": "stream",
     "text": [
      "Mean 3.462284987739533\n",
      "STD 12.765834525773869\n",
      "Q1 1.0\n",
      "Q2 1.0\n",
      "Q3 3.0\n"
     ]
    }
   ],
   "source": [
    "print(f\"Mean {np.mean(np_num_publications)}\\\n",
    "\\nSTD {np.std(np_num_publications)}\\\n",
    "\\nQ1 {np.percentile(np_num_publications, 25)}\\\n",
    "\\nQ2 {np.median(np_num_publications)}\\\n",
    "\\nQ3 {np.percentile(np_num_publications, 75)}\")"
   ]
  },
  {
   "cell_type": "markdown",
   "id": "458eec52",
   "metadata": {},
   "source": [
    "The fact that the median and Q1 are both at 1.0, and the mean is much higher, strongly suggests a skewed distribution with a long tail to the right. This right skew indicates that while most of the data are clustered around the lower numbers (below 3.0), there are enough high numbers (outliers) to pull the mean up significantly, without affecting the median similarly."
   ]
  },
  {
   "cell_type": "markdown",
   "id": "0613d978",
   "metadata": {},
   "source": [
    "E. Now plot a histogram of the number of publications per venue, as well as calculate the mean, standard deviation, median, Q1, and Q3 values. What is the venue with the largest number of publications in the dataset?"
   ]
  },
  {
   "cell_type": "code",
   "execution_count": null,
   "id": "bac8af86",
   "metadata": {},
   "outputs": [],
   "source": [
    "#  histogram of the number of publications per venue"
   ]
  },
  {
   "cell_type": "code",
   "execution_count": 114,
   "id": "0fa25f43",
   "metadata": {},
   "outputs": [
    {
     "data": {
      "image/png": "[encoded data removed]",
      "text/plain": [
       "<Figure size 720x432 with 1 Axes>"
      ]
     },
     "metadata": {
      "needs_background": "light"
     },
     "output_type": "display_data"
    }
   ],
   "source": [
    "pipeline = [  \n",
    "    {\"$group\": {\"_id\": \"$venue\", \"publications\": {\"$push\": \"$publication\"}}},  \n",
    "    {\"$project\": {\"_id\":0,\"venue\": \"$_id\", \"publications\": 1}}  \n",
    "]\n",
    "\n",
    "result = data.aggregate(pipeline)\n",
    "\n",
    "venues = []\n",
    "num_publications = []\n",
    "for doc in result:\n",
    "    venues.append(doc[\"venue\"])\n",
    "    num_publications.append(len(doc[\"publications\"]))\n",
    "    \n",
    "plt.figure(figsize=(10, 6)) \n",
    "\n",
    "plt.hist(num_publications, bins=range(1, max(num_publications) + 1), edgecolor='black', alpha=0.7,log=True)\n",
    "\n",
    "plt.title('Histogram of Number of Publications per Venue')\n",
    "plt.xlabel('Venues')\n",
    "plt.ylabel('Number of Publications')\n",
    "\n",
    "plt.xticks([]) \n",
    "plt.xlabel('Venues')  \n",
    "\n",
    "plt.show()"
   ]
  },
  {
   "cell_type": "code",
   "execution_count": 115,
   "id": "7d80b03e",
   "metadata": {},
   "outputs": [
    {
     "name": "stdout",
     "output_type": "stream",
     "text": [
      "Mean 8.725957633629678\n",
      "STD 106.79592557022558\n",
      "Q1 1.0\n",
      "Q2 1.0\n",
      "Q3 1.0\n"
     ]
    }
   ],
   "source": [
    "# mean, standard deviation, median, Q1, and Q3\n",
    "np_num_publications = np.array(num_publications)\n",
    "print(f\"Mean {np.mean(np_num_publications)}\\\n",
    "\\nSTD {np.std(np_num_publications)}\\\n",
    "\\nQ1 {np.percentile(np_num_publications, 25)}\\\n",
    "\\nQ2 {np.median(np_num_publications)}\\\n",
    "\\nQ3 {np.percentile(np_num_publications, 75)}\")"
   ]
  },
  {
   "cell_type": "code",
   "execution_count": 116,
   "id": "ac4d7044",
   "metadata": {},
   "outputs": [
    {
     "name": "stdout",
     "output_type": "stream",
     "text": [
      "118378 12754 IEEE Transactions on Information Theory\n"
     ]
    }
   ],
   "source": [
    "# What is the venue with the largest number of publications in the dataset?\n",
    "largest_num_of_pub = max(num_publications)\n",
    "\n",
    "for i in range(len(num_publications)):\n",
    "    if(num_publications[i]==largest_num_of_pub):\n",
    "        print(i,num_publications[i],venues[i])"
   ]
  },
  {
   "cell_type": "markdown",
   "id": "5a90416b",
   "metadata": {},
   "source": [
    "F. Plot a histogram of the number of references (number of publications a publication refers to) and citations (number of publications referring to a publication) per publication. What is the publication with the largest number of references? What is the publication with the largest number of citations? Do these make sense?"
   ]
  },
  {
   "cell_type": "code",
   "execution_count": 126,
   "id": "a1cadc2e",
   "metadata": {},
   "outputs": [],
   "source": [
    "# Plot a histogram of number of references (number of publications a publication refers to) per publication\n",
    "pipeline = [  \n",
    "    #{ \"$unwind\": \"$citations\"},\n",
    "    {\"$group\": {\"_id\": \"$publication\", \"references\": {\"$push\": \"$citations\"}}}, \n",
    "    {\"$project\": {\"_id\":0,\"publication\": \"$_id\", \"references\": 1}} \n",
    "]\n",
    "\n",
    "result = data.aggregate(pipeline)"
   ]
  },
  {
   "cell_type": "code",
   "execution_count": 128,
   "id": "0508e598",
   "metadata": {},
   "outputs": [],
   "source": [
    "publication = []\n",
    "references = []\n",
    "num_references = []\n",
    "for doc in result:\n",
    "    publication.append(doc[\"publication\"])\n",
    "    references.append(doc[\"references\"])"
   ]
  },
  {
   "cell_type": "code",
   "execution_count": 152,
   "id": "fe274dad",
   "metadata": {},
   "outputs": [],
   "source": [
    "num_references = []\n",
    "for refs in references:\n",
    "    if len(refs)>0:\n",
    "        num_references.append(len(refs[0]))\n",
    "    else:\n",
    "        num_references.append(0)"
   ]
  },
  {
   "cell_type": "code",
   "execution_count": 205,
   "id": "377c1b69",
   "metadata": {},
   "outputs": [
    {
     "data": {
      "text/plain": [
       "True"
      ]
     },
     "execution_count": 205,
     "metadata": {},
     "output_type": "execute_result"
    }
   ],
   "source": [
    "len(num_references)==len(references)==len(publication)"
   ]
  },
  {
   "cell_type": "code",
   "execution_count": 203,
   "id": "3b828b23",
   "metadata": {},
   "outputs": [
    {
     "data": {
      "text/plain": [
       "245"
      ]
     },
     "execution_count": 203,
     "metadata": {},
     "output_type": "execute_result"
    }
   ],
   "source": [
    "len(np.unique(np.array(num_references)))"
   ]
  },
  {
   "cell_type": "code",
   "execution_count": 194,
   "id": "b61c3ca0",
   "metadata": {},
   "outputs": [
    {
     "data": {
      "image/png": "[encoded data removed]",
      "text/plain": [
       "<Figure size 720x432 with 1 Axes>"
      ]
     },
     "metadata": {
      "needs_background": "light"
     },
     "output_type": "display_data"
    }
   ],
   "source": [
    "plt.figure(figsize=(10, 6)) \n",
    "\n",
    "plt.hist(num_references, bins=range(1, max(num_references) + 1), edgecolor='black', alpha=0.7,log=True)\n",
    "\n",
    "plt.title('Histogram of Number of References per Publication')\n",
    "plt.ylabel('Number of Publications')\n",
    "\n",
    "plt.xticks([]) \n",
    "plt.xlabel('Number of references')  \n",
    "\n",
    "plt.show()\n",
    "# height of each bin shows how many publications have that exact number of references"
   ]
  },
  {
   "cell_type": "code",
   "execution_count": 181,
   "id": "eb36aeae",
   "metadata": {},
   "outputs": [],
   "source": [
    "# Plot a histogram of number of citations (number of publications referring to a publication) per publication\n",
    "pipeline = [\n",
    "    {\"$unwind\": \"$citations\"},  \n",
    "    {\"$group\": {\"_id\": \"$citations\",\"count\":{\"$sum\":1}}},  \n",
    "    {\"$sort\":{\"count\":1}},\n",
    "    {\"$project\": {\"_id\":0,\"citation\": \"$_id\", \"count\": 1}}, \n",
    "]\n",
    "\n",
    "result = data.aggregate(pipeline)"
   ]
  },
  {
   "cell_type": "code",
   "execution_count": 182,
   "id": "ff7f88c7",
   "metadata": {},
   "outputs": [],
   "source": [
    "cited_publications = {}\n",
    "for doc in result:\n",
    "    cited_publications[doc[\"citation\"]] = doc[\"count\"]"
   ]
  },
  {
   "cell_type": "code",
   "execution_count": 199,
   "id": "1ccfdcf2",
   "metadata": {},
   "outputs": [
    {
     "data": {
      "text/plain": [
       "1007495"
      ]
     },
     "execution_count": 199,
     "metadata": {},
     "output_type": "execute_result"
    }
   ],
   "source": [
    "len(cited_publications)"
   ]
  },
  {
   "cell_type": "code",
   "execution_count": 187,
   "id": "34ee7816",
   "metadata": {},
   "outputs": [],
   "source": [
    "# All other publications are not even cited once. Their count is 0.\n",
    "num_citations_per_pub = []\n",
    "for pub in publication:\n",
    "    if pub not in cited_publications:\n",
    "        num_citations_per_pub.append(0)\n",
    "    else:\n",
    "        num_citations_per_pub.append(cited_publications[pub])\n",
    "        "
   ]
  },
  {
   "cell_type": "code",
   "execution_count": 213,
   "id": "7b5b47e5",
   "metadata": {},
   "outputs": [
    {
     "data": {
      "text/plain": [
       "array([     0,      1,      2,      3,      4,      5,      6,      7,\n",
       "            8,      9,     10,     11,     12,     13,     14,     15,\n",
       "           16,     17,     18,     19,     20,     21,     22,     23,\n",
       "           24,     25,     26,     27,     28,     29,     30,     31,\n",
       "           32,     33,     34,     35,     36,     37,     38,     39,\n",
       "           40,     41,     42,     43,     44,     45,     46,     47,\n",
       "           48,     49,     50,     51,     52,     53,     54,     55,\n",
       "           56,     57,     58,     59,     60,     61,     62,     63,\n",
       "           64,     65,     66,     67,     68,     69,     70,     71,\n",
       "           72,     73,     74,     75,     76,     77,     78,     79,\n",
       "           80,     81,     82,     83,     84,     85,     86,     87,\n",
       "           88,     89,     90,     91,     92,     93,     94,     95,\n",
       "           96,     97,     98,     99,    100,    101,    102,    103,\n",
       "          104,    105,    106,    107,    108,    109,    110,    111,\n",
       "          112,    113,    114,    115,    116,    117,    118,    119,\n",
       "          120,    121,    122,    123,    124,    125,    126,    127,\n",
       "          128,    129,    130,    131,    132,    133,    134,    135,\n",
       "          136,    137,    138,    139,    140,    141,    142,    143,\n",
       "          144,    145,    146,    147,    148,    149,    150,    151,\n",
       "          152,    153,    154,    155,    156,    157,    158,    159,\n",
       "          160,    161,    162,    163,    164,    165,    166,    167,\n",
       "          168,    169,    170,    171,    172,    173,    174,    175,\n",
       "          176,    177,    178,    179,    180,    181,    182,    183,\n",
       "          184,    185,    186,    187,    188,    189,    190,    191,\n",
       "          192,    193,    194,    195,    196,    197,    198,    199,\n",
       "          200,    201,    202,    203,    204,    205,    206,    207,\n",
       "          208,    209,    210,    211,    212,    213,    214,    215,\n",
       "          216,    217,    218,    219,    220,    221,    222,    223,\n",
       "          224,    225,    226,    227,    228,    229,    230,    231,\n",
       "          232,    233,    234,    235,    236,    237,    238,    239,\n",
       "          240,    241,    242,    243,    244,    245,    246,    247,\n",
       "          248,    249,    250,    251,    252,    253,    254,    255,\n",
       "          256,    257,    258,    259,    260,    261,    262,    263,\n",
       "          264,    265,    266,    267,    268,    269,    270,    271,\n",
       "          272,    273,    274,    275,    276,    277,    278,    279,\n",
       "          280,    281,    282,    283,    284,    285,    286,    287,\n",
       "          288,    289,    290,    291,    292,    293,    294,    295,\n",
       "          296,    297,    298,    299,    300,    301,    302,    303,\n",
       "          304,    305,    306,    307,    308,    309,    310,    311,\n",
       "          312,    313,    314,    315,    316,    317,    318,    319,\n",
       "          320,    321,    322,    323,    324,    325,    326,    327,\n",
       "          328,    329,    330,    331,    332,    333,    334,    335,\n",
       "          336,    337,    338,    339,    340,    341,    342,    343,\n",
       "          344,    345,    346,    347,    348,    349,    350,    351,\n",
       "          352,    353,    354,    355,    356,    357,    358,    359,\n",
       "          360,    361,    362,    363,    364,    365,    366,    367,\n",
       "          368,    369,    370,    371,    372,    373,    374,    375,\n",
       "          376,    377,    378,    379,    380,    381,    382,    383,\n",
       "          384,    385,    386,    387,    388,    389,    390,    391,\n",
       "          392,    393,    394,    395,    396,    397,    398,    399,\n",
       "          400,    401,    402,    403,    404,    405,    406,    407,\n",
       "          408,    409,    410,    411,    412,    413,    414,    415,\n",
       "          416,    417,    418,    419,    420,    421,    422,    423,\n",
       "          424,    425,    426,    427,    428,    429,    430,    431,\n",
       "          432,    433,    434,    435,    436,    437,    438,    439,\n",
       "          440,    441,    442,    443,    444,    445,    446,    447,\n",
       "          449,    450,    451,    452,    453,    454,    455,    456,\n",
       "          457,    458,    459,    460,    461,    462,    463,    464,\n",
       "          465,    466,    467,    468,    469,    470,    471,    473,\n",
       "          474,    475,    476,    477,    478,    479,    480,    481,\n",
       "          482,    483,    484,    485,    486,    487,    488,    489,\n",
       "          490,    491,    492,    493,    494,    495,    496,    497,\n",
       "          498,    499,    500,    501,    502,    503,    504,    505,\n",
       "          506,    508,    509,    510,    511,    512,    513,    514,\n",
       "          515,    516,    517,    518,    519,    520,    521,    522,\n",
       "          524,    525,    528,    529,    530,    533,    536,    537,\n",
       "          538,    539,    540,    542,    543,    544,    545,    546,\n",
       "          547,    548,    549,    551,    552,    554,    556,    557,\n",
       "          558,    559,    561,    562,    563,    565,    566,    567,\n",
       "          568,    569,    572,    573,    574,    575,    576,    577,\n",
       "          578,    579,    580,    582,    585,    586,    587,    588,\n",
       "          589,    593,    595,    596,    597,    598,    599,    601,\n",
       "          604,    605,    606,    609,    610,    611,    612,    613,\n",
       "          615,    617,    620,    621,    622,    624,    625,    627,\n",
       "          629,    630,    631,    633,    634,    636,    637,    638,\n",
       "          639,    642,    643,    645,    646,    647,    652,    653,\n",
       "          656,    657,    658,    659,    660,    661,    662,    668,\n",
       "          669,    670,    671,    672,    673,    674,    675,    679,\n",
       "          681,    682,    683,    684,    689,    692,    693,    694,\n",
       "          697,    698,    699,    700,    701,    702,    704,    705,\n",
       "          707,    710,    713,    716,    720,    721,    722,    723,\n",
       "          724,    725,    727,    731,    733,    734,    735,    737,\n",
       "          738,    740,    743,    745,    751,    752,    753,    755,\n",
       "          756,    757,    764,    765,    766,    768,    769,    770,\n",
       "          771,    773,    774,    775,    779,    780,    781,    787,\n",
       "          789,    790,    791,    793,    795,    798,    799,    800,\n",
       "          811,    812,    813,    822,    826,    827,    828,    829,\n",
       "          830,    832,    834,    835,    836,    837,    840,    842,\n",
       "          846,    848,    854,    855,    862,    864,    867,    868,\n",
       "          869,    871,    875,    877,    878,    882,    883,    884,\n",
       "          887,    889,    893,    894,    895,    896,    897,    900,\n",
       "          910,    912,    913,    923,    924,    925,    929,    930,\n",
       "          931,    936,    937,    940,    942,    943,    949,    950,\n",
       "          951,    952,    954,    956,    957,    965,    966,    968,\n",
       "          970,    979,    980,    981,    988,    991,   1002,   1006,\n",
       "         1007,   1010,   1011,   1013,   1025,   1029,   1031,   1032,\n",
       "         1037,   1040,   1043,   1047,   1050,   1052,   1053,   1055,\n",
       "         1057,   1058,   1068,   1074,   1075,   1076,   1077,   1080,\n",
       "         1086,   1092,   1095,   1096,   1098,   1101,   1103,   1109,\n",
       "         1112,   1117,   1131,   1134,   1139,   1141,   1147,   1149,\n",
       "         1150,   1155,   1163,   1165,   1169,   1180,   1190,   1195,\n",
       "         1197,   1202,   1204,   1207,   1213,   1214,   1222,   1241,\n",
       "         1242,   1252,   1256,   1261,   1269,   1273,   1274,   1281,\n",
       "         1288,   1293,   1298,   1301,   1306,   1312,   1326,   1327,\n",
       "         1329,   1336,   1341,   1346,   1348,   1356,   1377,   1385,\n",
       "         1395,   1397,   1400,   1408,   1416,   1429,   1443,   1450,\n",
       "         1464,   1465,   1466,   1477,   1503,   1505,   1506,   1526,\n",
       "         1527,   1554,   1555,   1556,   1568,   1589,   1618,   1624,\n",
       "         1627,   1634,   1640,   1643,   1647,   1653,   1684,   1691,\n",
       "         1701,   1703,   1707,   1767,   1768,   1804,   1811,   1828,\n",
       "         1832,   1853,   1854,   1865,   1923,   1949,   1998,   1999,\n",
       "         2016,   2022,   2024,   2054,   2057,   2078,   2082,   2111,\n",
       "         2179,   2213,   2223,   2234,   2296,   2388,   2401,   2492,\n",
       "         2496,   2522,   2629,   2667,   2719,   2728,   2765,   3101,\n",
       "         3328,   3339,   3452,   4167,   4490,   4717,   4882,   5297,\n",
       "         6526,   8620,  82080, 938039])"
      ]
     },
     "execution_count": 213,
     "metadata": {},
     "output_type": "execute_result"
    }
   ],
   "source": [
    "np.unique(np.array(num_citations_per_pub))"
   ]
  },
  {
   "cell_type": "code",
   "execution_count": 204,
   "id": "2fc0e068",
   "metadata": {},
   "outputs": [
    {
     "data": {
      "image/png": "[encoded data removed]",
      "text/plain": [
       "<Figure size 720x432 with 1 Axes>"
      ]
     },
     "metadata": {
      "needs_background": "light"
     },
     "output_type": "display_data"
    }
   ],
   "source": [
    "plt.figure(figsize=(10, 6)) \n",
    "\n",
    "plt.hist(num_citations_per_pub, bins=200, edgecolor='black', alpha=0.7,log=True)\n",
    "\n",
    "plt.title('Histogram of Number of Citations per Publication')\n",
    "plt.ylabel('Number of Publications')\n",
    "\n",
    "plt.xticks([]) \n",
    "plt.xlabel('Number of Citations')  \n",
    "\n",
    "plt.show()"
   ]
  },
  {
   "cell_type": "code",
   "execution_count": 207,
   "id": "f582649c",
   "metadata": {},
   "outputs": [
    {
     "data": {
      "text/plain": [
       "809"
      ]
     },
     "execution_count": 207,
     "metadata": {},
     "output_type": "execute_result"
    }
   ],
   "source": [
    "max(num_references)"
   ]
  },
  {
   "cell_type": "code",
   "execution_count": 208,
   "id": "69050e80",
   "metadata": {},
   "outputs": [
    {
     "name": "stdout",
     "output_type": "stream",
     "text": [
      "Publication with largest number of references: 2015217\n"
     ]
    }
   ],
   "source": [
    "# What is the publication with the largest number of references? \n",
    "for i in range(len(publication)):\n",
    "    if(num_references[i]==809):\n",
    "        print(f\"Publication with largest number of references: {publication[i]}\")\n",
    "        break"
   ]
  },
  {
   "cell_type": "code",
   "execution_count": 212,
   "id": "c1247b71",
   "metadata": {},
   "outputs": [
    {
     "name": "stdout",
     "output_type": "stream",
     "text": [
      "Publication with largest number of citations: 2135000. Max citations: 938039\n"
     ]
    }
   ],
   "source": [
    "# What is the publication with the largest number of citations? \n",
    "max_citations = max(num_citations_per_pub)\n",
    "for i in range(len(publication)):\n",
    "    if(num_citations_per_pub[i]==max_citations):\n",
    "        print(f\"Publication with largest number of citations: {publication[i]}. Max citations: {max_citations}\")\n",
    "        break"
   ]
  },
  {
   "cell_type": "code",
   "execution_count": null,
   "id": "1208ca38",
   "metadata": {},
   "outputs": [],
   "source": [
    "# Do these make sense?"
   ]
  },
  {
   "cell_type": "markdown",
   "id": "61f91485",
   "metadata": {},
   "source": [
    "Based on the provided dataset size and the nature of academic publications, the reported figures for the highest number of references and citations are plausible. In large academic datasets, outliers with exceptionally high numbers of references or citations are expected due to the nature of scientific impact and the diversity of publication types (reviews, meta-analyses, seminal research papers)."
   ]
  },
  {
   "cell_type": "markdown",
   "id": "8ef2cc7b",
   "metadata": {},
   "source": [
    "G. Calculate the so called “impact” factor for each venue. To do so, calculate the total number of citations for the publications in the venue, and then divide this number by the number of publications for the venue. Plot a histogram of the results"
   ]
  },
  {
   "cell_type": "code",
   "execution_count": null,
   "id": "e4a27286",
   "metadata": {},
   "outputs": [],
   "source": [
    "# Group by venue, fetch publication\n",
    "# for each publication we already know number of citations (cited_publications dict)"
   ]
  },
  {
   "cell_type": "code",
   "execution_count": 216,
   "id": "6d021d8f",
   "metadata": {},
   "outputs": [],
   "source": [
    "pipeline = [  \n",
    "    {\"$group\": {\"_id\": \"$venue\", \"publications\": {\"$push\": \"$publication\"}}},  \n",
    "    {\"$project\": {\"_id\":0,\"venue\": \"$_id\", \"publications\": 1}}  \n",
    "]\n",
    "\n",
    "result = data.aggregate(pipeline)\n",
    "\n",
    "impact_factor_of_venue = {}\n",
    "\n",
    "for doc in result:\n",
    "    num_of_citations = 0\n",
    "    for pub in doc[\"publications\"]:\n",
    "        if pub in cited_publications:\n",
    "            num_of_citations += cited_publications[pub]\n",
    "    impact_factor_of_venue[doc[\"venue\"]] = num_of_citations/len(doc[\"publications\"])"
   ]
  },
  {
   "cell_type": "code",
   "execution_count": 226,
   "id": "fc752d43",
   "metadata": {},
   "outputs": [
    {
     "data": {
      "image/png": "[encoded data removed]",
      "text/plain": [
       "<Figure size 432x288 with 1 Axes>"
      ]
     },
     "metadata": {
      "needs_background": "light"
     },
     "output_type": "display_data"
    }
   ],
   "source": [
    "# histogram\n",
    "plt.hist(impact_factor_of_venue.values(), bins=300, edgecolor='black')\n",
    "\n",
    "# Add titles and labels\n",
    "plt.title('Histogram of Impact Factors')\n",
    "plt.xlabel('Value')\n",
    "plt.ylabel('Frequency')\n",
    "plt.yscale('log')  # Use logarithmic scale for y-axis\n",
    "\n",
    "# Show the plot\n",
    "plt.show()"
   ]
  },
  {
   "cell_type": "markdown",
   "id": "001d79b6",
   "metadata": {},
   "source": [
    "H. What is the venue with the highest apparent impact factor? Do you believe this number?(http://mdanderson.libanswers.com/faq/26159)"
   ]
  },
  {
   "cell_type": "code",
   "execution_count": 225,
   "id": "fc8a964b",
   "metadata": {},
   "outputs": [
    {
     "name": "stdout",
     "output_type": "stream",
     "text": [
      "AI EDAM 82080.0\n"
     ]
    }
   ],
   "source": [
    "max_key = max(impact_factor_of_venue, key=impact_factor_of_venue.get)\n",
    "print(max_key,impact_factor_of_venue[max_key])"
   ]
  },
  {
   "cell_type": "markdown",
   "id": "f4c5fa63",
   "metadata": {},
   "source": [
    "Nope. I do not belive this number. Impact factor of 10+ is pretty rare."
   ]
  },
  {
   "cell_type": "markdown",
   "id": "1868fca8",
   "metadata": {},
   "source": [
    "I. Now repeat the calculation from item G, but restrict the calculation to venues with at least 10 publications. How does your histogram change? List the citation counts for all publications from the venue with the highest impact factor. How does the impact factor (mean number of citations) compare to the median number of citations?"
   ]
  },
  {
   "cell_type": "code",
   "execution_count": 231,
   "id": "e25e2895",
   "metadata": {},
   "outputs": [
    {
     "data": {
      "image/png": "[encoded data removed]",
      "text/plain": [
       "<Figure size 432x288 with 1 Axes>"
      ]
     },
     "metadata": {
      "needs_background": "light"
     },
     "output_type": "display_data"
    }
   ],
   "source": [
    "# Now repeat the calculation from item G, but restrict the calculation to venues with at least 10 publications. \n",
    "# How does your histogram change?\n",
    "pipeline = [  \n",
    "    {\"$group\": {\"_id\": \"$venue\", \"publications\": {\"$push\": \"$publication\"}}},  \n",
    "    {\"$project\": {\"_id\":0,\"venue\": \"$_id\", \"publications\": 1}}  \n",
    "]\n",
    "\n",
    "result = data.aggregate(pipeline)\n",
    "\n",
    "impact_factor_of_venue_atleast_10 = {}\n",
    "\n",
    "for doc in result:\n",
    "    num_of_citations = 0\n",
    "    for pub in doc[\"publications\"]:\n",
    "        if pub in cited_publications:\n",
    "            num_of_citations += cited_publications[pub]\n",
    "    \n",
    "    if(len(doc[\"publications\"]) >= 10):\n",
    "        impact_factor_of_venue_atleast_10[doc[\"venue\"]] = num_of_citations/len(doc[\"publications\"])\n",
    "\n",
    "# histogram\n",
    "plt.hist(impact_factor_of_venue_atleast_10.values(), bins=300, edgecolor='black')\n",
    "\n",
    "# Add titles and labels\n",
    "plt.title('Histogram of Impact Factors')\n",
    "plt.xlabel('Value')\n",
    "plt.ylabel('Frequency')\n",
    "plt.yscale('log')  # Use logarithmic scale for y-axis\n",
    "\n",
    "# Show the plot\n",
    "plt.show()"
   ]
  },
  {
   "cell_type": "markdown",
   "id": "777eb00c",
   "metadata": {},
   "source": [
    "Histogram has changed. The values are till 2k instead of 80k. Its shape is similar to that of the previous one."
   ]
  },
  {
   "cell_type": "code",
   "execution_count": 232,
   "id": "ba361876",
   "metadata": {},
   "outputs": [
    {
     "name": "stdout",
     "output_type": "stream",
     "text": [
      "Proceedings of the 19th ACM SIGKDD international conference on Knowledge discovery and data mining 2033.2029702970297\n"
     ]
    }
   ],
   "source": [
    "# List the citation counts for all publications from the venue with the highest impact factor.\n",
    "max_key = max(impact_factor_of_venue_atleast_10, key=impact_factor_of_venue_atleast_10.get)\n",
    "print(max_key,impact_factor_of_venue_atleast_10[max_key])"
   ]
  },
  {
   "cell_type": "code",
   "execution_count": 235,
   "id": "e4e4e596",
   "metadata": {},
   "outputs": [
    {
     "name": "stdout",
     "output_type": "stream",
     "text": [
      "Citation counts: 410707\n"
     ]
    }
   ],
   "source": [
    "pipeline = [  \n",
    "    {\"$group\": {\"_id\": \"$venue\", \"publications\": {\"$push\": \"$publication\"}}},  \n",
    "    {\"$project\": {\"_id\":0,\"venue\": \"$_id\", \"publications\": 1}}  \n",
    "]\n",
    "\n",
    "result = data.aggregate(pipeline)\n",
    "for doc in result:\n",
    "    num_of_citations = 0\n",
    "    if doc[\"venue\"] == max_key:\n",
    "        for pub in doc[\"publications\"]:\n",
    "            if pub in cited_publications:\n",
    "                num_of_citations += cited_publications[pub]\n",
    "        print(f\"Citation counts: {num_of_citations}\")\n",
    "        break"
   ]
  },
  {
   "cell_type": "code",
   "execution_count": 242,
   "id": "148d0b8c",
   "metadata": {},
   "outputs": [
    {
     "name": "stdout",
     "output_type": "stream",
     "text": [
      "Mean number of citations 4.0552024311358466\n",
      "Median number of citations 0.0\n"
     ]
    }
   ],
   "source": [
    "# How does the impact factor (mean number of citations) compare to the median number of citations?\n",
    "print(f\"Mean number of citations {np.mean(np.array(num_citations_per_pub))}\\\n",
    "\\nMedian number of citations {np.median(np.array(num_citations_per_pub))}\")\n"
   ]
  },
  {
   "cell_type": "markdown",
   "id": "a53d775f",
   "metadata": {},
   "source": [
    "The mean is significantly more than median. The distribution of number of citations is skewed."
   ]
  },
  {
   "cell_type": "markdown",
   "id": "0de85de1",
   "metadata": {},
   "source": [
    "J. Finally, construct a list of publications for each publication year. Use this list to plot the average number of references and average number of citations per publication as a function of time. Explain the differences you see in the trends."
   ]
  },
  {
   "cell_type": "code",
   "execution_count": 243,
   "id": "333369b8",
   "metadata": {},
   "outputs": [],
   "source": [
    "db = client.AminerTimeSeriesDB\n",
    "data = db.data"
   ]
  },
  {
   "cell_type": "code",
   "execution_count": 305,
   "id": "2ce19ece",
   "metadata": {},
   "outputs": [],
   "source": [
    "# number of references per year\n",
    "pipeline = [  \n",
    "    {\"$group\": {\"_id\": \"$year\", \"references\": {\"$push\": \"$citations\"}}}, \n",
    "    {\"$project\": {\"_id\":0,\"year\": \"$_id\", \"references\": 1}} \n",
    "]\n",
    "\n",
    "result = data.aggregate(pipeline)"
   ]
  },
  {
   "cell_type": "code",
   "execution_count": 306,
   "id": "79b7b6d2",
   "metadata": {},
   "outputs": [],
   "source": [
    "year = []\n",
    "references = []\n",
    "num_references = []\n",
    "for doc in result:\n",
    "    year.append(doc[\"year\"])\n",
    "    references.append(doc[\"references\"])"
   ]
  },
  {
   "cell_type": "code",
   "execution_count": 326,
   "id": "cece5ad2",
   "metadata": {
    "scrolled": false
   },
   "outputs": [],
   "source": [
    "#year.pop(0)\n",
    "#references.pop(0)"
   ]
  },
  {
   "cell_type": "code",
   "execution_count": 331,
   "id": "5db5e8bc",
   "metadata": {},
   "outputs": [
    {
     "data": {
      "text/plain": [
       "True"
      ]
     },
     "execution_count": 331,
     "metadata": {},
     "output_type": "execute_result"
    }
   ],
   "source": [
    "len(references)==len(year)\n",
    "# [['2135000'], ['2135000'], ['2135000'], ['2135000'], ['2135000'], ['2135000']]"
   ]
  },
  {
   "cell_type": "code",
   "execution_count": 346,
   "id": "74820acb",
   "metadata": {},
   "outputs": [],
   "source": [
    "# references is list of list of references of each publication\n",
    "# avg number of references per publication is sum of length of each list div by len of references\n",
    "avg_num_ref_per_pub_per_year = {}\n",
    "for i in range(len(year)):\n",
    "    s = 0\n",
    "    if(len(references[i]) == 0):\n",
    "        avg_num_ref_per_pub_per_year[year[i]] = 0\n",
    "    else:\n",
    "        for refs in references[i]:\n",
    "            s += len(refs)\n",
    "        avg = s/len(references[i])\n",
    "        avg_num_ref_per_pub_per_year[year[i]] = avg\n",
    "    "
   ]
  },
  {
   "cell_type": "code",
   "execution_count": 382,
   "id": "d242107a",
   "metadata": {},
   "outputs": [
    {
     "data": {
      "text/plain": [
       "2.498533724340176"
      ]
     },
     "execution_count": 382,
     "metadata": {},
     "output_type": "execute_result"
    }
   ],
   "source": [
    "avg_num_ref_per_pub_per_year['1967']"
   ]
  },
  {
   "cell_type": "code",
   "execution_count": 372,
   "id": "8547343a",
   "metadata": {},
   "outputs": [
    {
     "data": {
      "text/plain": [
       "dict_keys(['1936', '1938', '1941', '1945', '1947', '1949', '1950', '1951', '1952', '1953', '1954', '1955', '1956', '1957', '1958', '1959', '1960', '1961', '1962', '1963', '1964', '1965', '1966', '1967', '1968', '1969', '1970', '1971', '1972', '1973', '1974', '1975', '1976', '1977', '1978', '1979', '1980', '1981', '1982', '1983', '1984', '1985', '1986', '1987', '1988', '1989', '1990', '1991', '1992', '1993', '1994', '1995', '1996', '1997', '1998', '1999', '2000', '2001', '2002', '2003', '2004', '2005', '2006', '2007', '2008', '2009', '2010', '2011', '2012', '2013', '2014', '2015', '2016'])"
      ]
     },
     "execution_count": 372,
     "metadata": {},
     "output_type": "execute_result"
    }
   ],
   "source": [
    "avg_num_ref_per_pub_per_year.keys()"
   ]
  },
  {
   "cell_type": "code",
   "execution_count": 383,
   "id": "a666d67b",
   "metadata": {},
   "outputs": [],
   "source": [
    "pipeline = [\n",
    "    {\"$unwind\": \"$citations\"},\n",
    "    {\"$group\": {\"_id\": {\"year\": \"$year\", \"publication\": \"$citations\"}, \"num_citations\": {\"$sum\": 1}}},\n",
    "    {\"$group\": {\"_id\": \"$_id.year\", \"average_citations\": {\"$avg\": \"$num_citations\"}}},\n",
    "    {\"$sort\": {\"_id\": 1}},\n",
    "    {\"$project\": {\"_id\": 0, \"year\": \"$_id\", \"average_citations\": 1}}\n",
    "]\n",
    "\n",
    "result = list(data.aggregate(pipeline))\n"
   ]
  },
  {
   "cell_type": "code",
   "execution_count": 385,
   "id": "282adbb8",
   "metadata": {},
   "outputs": [],
   "source": [
    "avg_num_cit_per_pub_per_year = {}\n",
    "\n",
    "for r in result:\n",
    "    if r['year'] is not None:\n",
    "        avg_num_cit_per_pub_per_year[r['year']] = r['average_citations']\n",
    "    "
   ]
  },
  {
   "cell_type": "code",
   "execution_count": 386,
   "id": "42e7e740",
   "metadata": {},
   "outputs": [],
   "source": [
    "for y in year:\n",
    "    if y not in avg_num_cit_per_pub_per_year:\n",
    "        avg_num_cit_per_pub_per_year[y] = 0"
   ]
  },
  {
   "cell_type": "code",
   "execution_count": 400,
   "id": "d81b8032",
   "metadata": {},
   "outputs": [
    {
     "data": {
      "image/png": "[encoded data removed]",
      "text/plain": [
       "<Figure size 1440x432 with 1 Axes>"
      ]
     },
     "metadata": {
      "needs_background": "light"
     },
     "output_type": "display_data"
    }
   ],
   "source": [
    "# Extract keys (years) and values from the dictionaries\n",
    "years_ref = list(avg_num_ref_per_pub_per_year.keys())\n",
    "values_ref = list(avg_num_ref_per_pub_per_year.values())\n",
    "\n",
    "years_cit = list(avg_num_cit_per_pub_per_year.keys())\n",
    "values_cit = list(avg_num_cit_per_pub_per_year.values())\n",
    "\n",
    "years_ref.sort()\n",
    "values_ref.sort()\n",
    "years_cit.sort()\n",
    "values_cit.sort()\n",
    "\n",
    "# Create the plot\n",
    "plt.figure(figsize=(20, 6))\n",
    "\n",
    "# Plot avg_num_ref_per_pub_per_year\n",
    "plt.plot(years_ref, values_ref, marker='o', linestyle='-', label='Avg References per Publication')\n",
    "\n",
    "# Plot avg_num_cit_per_pub_per_year\n",
    "plt.plot(years_cit, values_cit, marker='s', linestyle='--', label='Avg Citations per Publication')\n",
    "\n",
    "# Add titles and labels\n",
    "plt.title('Average Number of References and Citations per Publication by Year')\n",
    "plt.xlabel('Year')\n",
    "plt.ylabel('Average Number')\n",
    "# Customize x-axis ticks\n",
    "plt.xticks(ticks=years_ref, labels=[str(year) for year in years_ref], rotation=45)\n",
    "\n",
    "plt.legend()  # Add a legend to differentiate the lines\n",
    "\n",
    "# Display the plot\n",
    "plt.tight_layout()  # Adjust layout to make room for the rotated x-axis labels\n",
    "plt.show()"
   ]
  },
  {
   "cell_type": "code",
   "execution_count": 401,
   "id": "2659a774",
   "metadata": {},
   "outputs": [],
   "source": [
    "# Number of references have been increasing\n",
    "# But number of citations remained stagnant. They increased only recently (last 10 yrs)"
   ]
  },
  {
   "cell_type": "code",
   "execution_count": null,
   "id": "32021c0d",
   "metadata": {},
   "outputs": [],
   "source": []
  }
 ],
 "metadata": {
  "kernelspec": {
   "display_name": "Python 3 (ipykernel)",
   "language": "python",
   "name": "python3"
  },
  "language_info": {
   "codemirror_mode": {
    "name": "ipython",
    "version": 3
   },
   "file_extension": ".py",
   "mimetype": "text/x-python",
   "name": "python",
   "nbconvert_exporter": "python",
   "pygments_lexer": "ipython3",
   "version": "3.8.12"
  }
 },
 "nbformat": 4,
 "nbformat_minor": 5
}
