{
  "nbformat": 4,
  "nbformat_minor": 0,
  "metadata": {
    "colab": {
      "provenance": []
    },
    "kernelspec": {
      "name": "python3",
      "display_name": "Python 3"
    },
    "language_info": {
      "name": "python"
    }
  },
  "cells": [
    {
      "cell_type": "markdown",
      "source": [
        "# PROBLEM 1: Aminer : basic dataset analysis"
      ],
      "metadata": {
        "id": "CJ6Qq1AjBhMI"
      }
    },
    {
      "cell_type": "code",
      "source": [
        "import pandas as pd\n",
        "import numpy as np\n",
        "import matplotlib.pyplot as plt\n",
        "\n",
        "from google.colab import drive\n",
        "drive.mount('/content/drive')"
      ],
      "metadata": {
        "colab": {
          "base_uri": "https://localhost:8080/"
        },
        "id": "5_DDJyB5Dhq8",
        "outputId": "2d6a8e9c-53d6-43e0-ae0f-dc2d9a802c9f"
      },
      "execution_count": 26,
      "outputs": [
        {
          "output_type": "stream",
          "name": "stdout",
          "text": [
            "Drive already mounted at /content/drive; to attempt to forcibly remount, call drive.mount(\"/content/drive\", force_remount=True).\n"
          ]
        }
      ]
    },
    {
      "cell_type": "markdown",
      "source": [
        "# Dataset info\n",
        "\n",
        "https://cn.aminer.org/citation\n",
        "\n"
      ],
      "metadata": {
        "id": "srtktx0P3Zi1"
      }
    },
    {
      "cell_type": "code",
      "source": [
        "#* --- paperTitle\n",
        "#@ --- Authors\n",
        "#t ---- Year\n",
        "#c  --- publication venue\n",
        "#index 00---- index id of this paper\n",
        "#% ---- the id of references of this paper (there are multiple lines, with each indicating a reference)\n",
        "#! --- Abstract\n",
        "\n",
        "# To extract: authors, publication venues, publications, and citations/references\n",
        "# fix issue (space issue)"
      ],
      "metadata": {
        "id": "gI1x1tpS31gv"
      },
      "execution_count": null,
      "outputs": []
    },
    {
      "cell_type": "code",
      "source": [
        "import json\n",
        "\n",
        "# Function to extract data from text file and store in JSON format\n",
        "\n",
        "data = []\n",
        "record = {}\n",
        "filename = \"/content/drive/MyDrive/USML/HW1/PROBLEM_1/acm.txt\"\n",
        "with open(filename, 'r') as file:\n",
        "  for line in file:\n",
        "    if line.startswith(\"#@\"):\n",
        "      record['authors'] = auth = [author.strip() for author in line.strip(\"#@\").strip().split(\", \")]\n",
        "    elif line.startswith(\"#c\"):  # Venue\n",
        "      record['venue'] = line.strip(\"#c\").strip()\n",
        "    elif line.startswith(\"#index\"):  # Publication ID\n",
        "      record['publication'] = line.strip(\"#index\").strip()\n",
        "    elif line.startswith(\"#%\"):  # Citations\n",
        "      record.setdefault('citations', []).append(line.strip(\"#%\").strip())\n",
        "    elif line.strip() == \"\":  # Empty line indicates end of record\n",
        "      data.append(record)\n",
        "      record = {}\n",
        "\n",
        "data.append(record)\n",
        "# Store data in JSON format\n",
        "with open(\"/content/drive/MyDrive/USML/HW1/PROBLEM_1/aminer_data.json\", \"w\") as json_file:\n",
        "    json.dump(data, json_file)\n"
      ],
      "metadata": {
        "id": "C0ZlzVDCFWyK"
      },
      "execution_count": null,
      "outputs": []
    },
    {
      "cell_type": "code",
      "source": [
        "len(data)"
      ],
      "metadata": {
        "colab": {
          "base_uri": "https://localhost:8080/"
        },
        "id": "QtFHiisAtb4u",
        "outputId": "2a6f4b7a-0183-4816-c246-97b3eec4f8a5"
      },
      "execution_count": null,
      "outputs": [
        {
          "output_type": "execute_result",
          "data": {
            "text/plain": [
              "2385067"
            ]
          },
          "metadata": {},
          "execution_count": 25
        }
      ]
    },
    {
      "cell_type": "code",
      "source": [
        "# Including year information:\n",
        "import json\n",
        "\n",
        "# Function to extract data from text file and store in JSON format\n",
        "\n",
        "data = []\n",
        "record = {}\n",
        "filename = \"/content/drive/MyDrive/USML/HW1/PROBLEM_1/acm.txt\"\n",
        "with open(filename, 'r') as file:\n",
        "  for line in file:\n",
        "    if line.startswith(\"#index\"):  # Publication ID\n",
        "      record['publication'] = line.strip(\"#index\").strip()\n",
        "    elif line.startswith(\"#t\"):  # year\n",
        "      record['year'] = line.strip(\"#t\").strip()\n",
        "    elif line.startswith(\"#%\"):  # Citations\n",
        "      record.setdefault('citations', []).append(line.strip(\"#%\").strip())\n",
        "    elif line.strip() == \"\":  # Empty line indicates end of record\n",
        "      data.append(record)\n",
        "      record = {}\n",
        "\n",
        "data.append(record)\n",
        "# Store data in JSON format\n",
        "with open(\"/content/drive/MyDrive/USML/HW1/PROBLEM_1/aminer_timeseries_data.json\", \"w\") as json_file:\n",
        "    json.dump(data, json_file)\n"
      ],
      "metadata": {
        "id": "4v-k5cDJv9MW"
      },
      "execution_count": 27,
      "outputs": []
    },
    {
      "cell_type": "code",
      "source": [
        "data[:35]"
      ],
      "metadata": {
        "colab": {
          "base_uri": "https://localhost:8080/"
        },
        "id": "KIOO_2M3CMKr",
        "outputId": "20363d99-fbd8-4a25-b41b-96faa5153bb9"
      },
      "execution_count": 35,
      "outputs": [
        {
          "output_type": "execute_result",
          "data": {
            "text/plain": [
              "[{'year': '1984', 'publication': '1'},\n",
              " {'year': '1984', 'publication': '2'},\n",
              " {'year': '1984', 'publication': '3'},\n",
              " {'year': '1984', 'publication': '4'},\n",
              " {'year': '1984', 'publication': '5'},\n",
              " {'year': '1984', 'publication': '6'},\n",
              " {'year': '1983', 'publication': '7'},\n",
              " {'year': '1983', 'publication': '8'},\n",
              " {'year': '1984', 'publication': '9', 'citations': ['289258', '2135000']},\n",
              " {'year': '1984', 'publication': '10', 'citations': ['2135000']},\n",
              " {'year': '1984',\n",
              "  'publication': '11',\n",
              "  'citations': ['289023', '408637', '600827', '688896', '2135000']},\n",
              " {'year': '1984',\n",
              "  'publication': '12',\n",
              "  'citations': ['768',\n",
              "   '289451',\n",
              "   '319820',\n",
              "   '408342',\n",
              "   '598671',\n",
              "   '598674',\n",
              "   '598672',\n",
              "   '600546',\n",
              "   '600559',\n",
              "   '600810',\n",
              "   '690080',\n",
              "   '1068476',\n",
              "   '2135000']},\n",
              " {'year': '1984', 'publication': '13'},\n",
              " {'year': '1984', 'publication': '14'},\n",
              " {'year': '1984', 'publication': '15'},\n",
              " {'year': '1984', 'publication': '16'},\n",
              " {'year': '1984', 'publication': '17'},\n",
              " {'year': '1984', 'publication': '18'},\n",
              " {'year': '1984', 'publication': '19'},\n",
              " {'year': '1984', 'publication': '20'},\n",
              " {'year': '1984', 'publication': '21'},\n",
              " {'year': '1984', 'publication': '22'},\n",
              " {'year': '1984', 'publication': '23'},\n",
              " {'year': '1984', 'publication': '24'},\n",
              " {'year': '1984', 'publication': '25'},\n",
              " {'year': '1984', 'publication': '26'},\n",
              " {'year': '1984', 'publication': '27'},\n",
              " {'year': '1984', 'publication': '28'},\n",
              " {'year': '1984', 'publication': '29'},\n",
              " {'year': '1984', 'publication': '30'},\n",
              " {'year': '1983', 'publication': '31'},\n",
              " {'year': '1983', 'publication': '32'},\n",
              " {'year': '1983', 'publication': '33'},\n",
              " {'year': '1983', 'publication': '34'},\n",
              " {'year': '1983', 'publication': '35'}]"
            ]
          },
          "metadata": {},
          "execution_count": 35
        }
      ]
    },
    {
      "cell_type": "code",
      "source": [],
      "metadata": {
        "id": "rF13OJfMDWqn"
      },
      "execution_count": null,
      "outputs": []
    }
  ]
}